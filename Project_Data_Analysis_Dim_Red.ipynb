{
  "nbformat": 4,
  "nbformat_minor": 0,
  "metadata": {
    "colab": {
      "provenance": [],
      "collapsed_sections": [
        "UGmzqj9xfd4p"
      ]
    },
    "kernelspec": {
      "name": "python3",
      "display_name": "Python 3"
    },
    "language_info": {
      "name": "python"
    }
  },
  "cells": [
    {
      "cell_type": "markdown",
      "source": [
        "# Data Analysis\n",
        "## Dimensionality Reduction and Factor Analysis\n",
        "\n",
        "\n",
        "## Nikolas Naydenov"
      ],
      "metadata": {
        "id": "q4Squ_F5fQMb"
      }
    },
    {
      "cell_type": "markdown",
      "source": [
        "The main topic of of this project is data analysis. More specifically, the aim is to understand and apply in practice traditional data transformation and dimensionality reduction techniques, namely the linear methods Principal Component Analysis, Linear Discriminant Analysis."
      ],
      "metadata": {
        "id": "JpzKDpKgvs46"
      }
    },
    {
      "cell_type": "code",
      "source": [
        "import numpy as np\n",
        "import pandas as pd\n",
        "import matplotlib.pyplot as plt"
      ],
      "metadata": {
        "id": "gSjGsa_UjrJB"
      },
      "execution_count": 19,
      "outputs": []
    },
    {
      "cell_type": "code",
      "source": [
        "# Set the random seed for reproducibility\n",
        "np.random.seed(42)"
      ],
      "metadata": {
        "id": "xe4F19ndmPOp"
      },
      "execution_count": null,
      "outputs": []
    },
    {
      "cell_type": "markdown",
      "source": [
        "## Principal Component Analysis\n",
        "\n",
        "The main purpose of principal component analysis (PCA) is to reduce the\n",
        "dimensionality from p to d, where d < p, while at the same time accounting\n",
        "for as much of the variation in the original data set as possible. With PCA, we\n",
        "transform the data to a new set of coordinates or variables that are a linear\n",
        "combination of the original variables. In addition, the observations in the\n",
        "new principal component space are uncorrelated [1]."
      ],
      "metadata": {
        "id": "UGmzqj9xfd4p"
      }
    },
    {
      "cell_type": "markdown",
      "source": [
        "### Dataset\n",
        "We generate 150 samples, of 6-dimensional normally distributed random variables that have high variance in some dimensions (e.g. 2) and low variance in other dimensions (e.g. 4).\n",
        "\n",
        "That way we simulate a dataset where features have different scale."
      ],
      "metadata": {
        "id": "mzBabtaOfXrD"
      }
    },
    {
      "cell_type": "code",
      "source": [
        "# Generate x1: standard normal distribution of (150 samples, 2 features) with high variance - scaled by 100\n",
        "x1 = np.random.randn(150, 2) * 100\n",
        "print(x1[0])"
      ],
      "metadata": {
        "colab": {
          "base_uri": "https://localhost:8080/"
        },
        "id": "iMkTGbeMreka",
        "outputId": "d6dd9270-2e22-40b9-9cc7-6a1ea10facd0"
      },
      "execution_count": null,
      "outputs": [
        {
          "output_type": "stream",
          "name": "stdout",
          "text": [
            "[-72.17375533  17.68208721]\n"
          ]
        }
      ]
    },
    {
      "cell_type": "code",
      "source": [
        "# Generate x2: 150 samples, 4 features with standard normal variance\n",
        "x2 = np.random.randn(150, 4)\n",
        "print(x2[0])"
      ],
      "metadata": {
        "colab": {
          "base_uri": "https://localhost:8080/"
        },
        "id": "FxuEc0CXri44",
        "outputId": "27da1e2d-42c8-4672-d8a6-d399a4eecd7b"
      },
      "execution_count": null,
      "outputs": [
        {
          "output_type": "stream",
          "name": "stdout",
          "text": [
            "[ 1.90119069 -0.06066081 -0.70840677 -1.51371439]\n"
          ]
        }
      ]
    },
    {
      "cell_type": "code",
      "source": [
        "# Concatenate x1 and x2 horizontally to form X: 150 samples, 6 features\n",
        "X = np.hstack((x1, x2))\n",
        "#print(type(X))\n",
        "#print(X[:,0])\n",
        "\n",
        "# Print X with values rounded to 0.01 precision for readability\n",
        "np.set_printoptions(precision=2, suppress=True)\n",
        "print(X[0:5]) # print(X[0,:])"
      ],
      "metadata": {
        "colab": {
          "base_uri": "https://localhost:8080/"
        },
        "id": "d6Yklo5CrpAB",
        "outputId": "d78c12b3-f8d2-49fa-f76d-cce8ab53af2d"
      },
      "execution_count": null,
      "outputs": [
        {
          "output_type": "stream",
          "name": "stdout",
          "text": [
            "[[ -72.17   17.68    1.9    -0.06   -0.71   -1.51]\n",
            " [ -54.67  -27.17   -1.8    -1.58    0.27    0.51]\n",
            " [ 167.35  134.05   -1.58    0.9    -0.48    0.15]\n",
            " [-129.96   82.97    1.61    0.9    -0.27   -0.89]\n",
            " [  81.14 -114.83   -2.15   -0.72   -0.21   -0.99]]\n"
          ]
        }
      ]
    },
    {
      "cell_type": "code",
      "source": [
        "for i in range(6):\n",
        "  print(f'Feature {i} standard deviation: {X[:,i].std()}')"
      ],
      "metadata": {
        "colab": {
          "base_uri": "https://localhost:8080/"
        },
        "id": "HcQNSQUn40Js",
        "outputId": "0568fe3c-dca8-42aa-f422-2d845886ceb6"
      },
      "execution_count": null,
      "outputs": [
        {
          "output_type": "stream",
          "name": "stdout",
          "text": [
            "Feature 0 standard deviation: 93.74689168446447\n",
            "Feature 1 standard deviation: 99.40450203265598\n",
            "Feature 2 standard deviation: 0.986747598767723\n",
            "Feature 3 standard deviation: 0.909823209151602\n",
            "Feature 4 standard deviation: 1.0475695229328081\n",
            "Feature 5 standard deviation: 0.934873199261965\n"
          ]
        }
      ]
    },
    {
      "cell_type": "code",
      "source": [
        "# Visualize the distribution of the first two features\n",
        "plt.scatter(X[:, 0], X[:, 3], alpha=0.5)\n",
        "plt.title('Scatter plot of two features with different variances')\n",
        "plt.xlabel('Feature 1')\n",
        "plt.ylabel('Feature 2')\n",
        "plt.grid(True)\n",
        "plt.show()"
      ],
      "metadata": {
        "colab": {
          "base_uri": "https://localhost:8080/",
          "height": 472
        },
        "id": "hGnwx4V2oKtX",
        "outputId": "8f4a448c-9b08-41c5-8e11-e0717261d2a2"
      },
      "execution_count": null,
      "outputs": [
        {
          "output_type": "display_data",
          "data": {
            "text/plain": [
              "<Figure size 640x480 with 1 Axes>"
            ],
            "image/png": "[encoded data removed]"
          },
          "metadata": {}
        }
      ]
    },
    {
      "cell_type": "markdown",
      "source": [
        "### Correlation and Covariance\n",
        "\n",
        "Which one is better to use in this case?"
      ],
      "metadata": {
        "id": "Bv8PwDbH3P5e"
      }
    },
    {
      "cell_type": "markdown",
      "source": [
        "The sample **covariance** between two variables (X, Y) is calculated using the following formula:\n",
        "$$\n",
        "\\text{Cov}(X, Y) = \\frac{1}{n-1} \\sum_{i=1}^{n} (X_i - \\bar{X})(Y_i - \\bar{Y})\n",
        "$$\n",
        "\n",
        "\n",
        "---\n",
        "\n"
      ],
      "metadata": {
        "id": "7xg2U43k6bRq"
      }
    },
    {
      "cell_type": "markdown",
      "source": [
        "The sample **correlation** coefficient r between two variables (X, Y), a.k.a. Pearson's correlation coefficient, is calculated using the formula:\n",
        "$$\n",
        "r_{XY} = \\frac{\\text{Cov}(X, Y)}{s_X s_Y}\n",
        "$$\n",
        "Since sample standard deviation is $ s_X = \\sqrt{\\frac{\\sum_{i=1}^{n} (X_i - \\bar{X})^2}{n-1}} $, we substitute to get the formula\n",
        "$$\n",
        "r_{XY} = \\frac{\\sum_{i=1}^{n} (X_i - \\bar{X})(Y_i - \\bar{Y})}{\\sqrt{\\sum_{i=1}^{n} (X_i - \\bar{X})^2} \\sqrt{\\sum_{i=1}^{n} (Y_i - \\bar{Y})^2}}\n",
        "$$"
      ],
      "metadata": {
        "id": "9_Fo7AF_7WT1"
      }
    },
    {
      "cell_type": "markdown",
      "source": [
        "#### Covariance Matrix:\n",
        "$$\n",
        "\\Sigma = \\begin{bmatrix}\n",
        "\\text{Cov}(X_1, X_1) & \\text{Cov}(X_1, X_2) & \\cdots & \\text{Cov}(X_1, X_p) \\\\\n",
        "\\text{Cov}(X_2, X_1) & \\text{Cov}(X_2, X_2) & \\cdots & \\text{Cov}(X_2, X_p) \\\\\n",
        "\\vdots & \\vdots & \\ddots & \\vdots \\\\\n",
        "\\text{Cov}(X_p, X_1) & \\text{Cov}(X_p, X_2) & \\cdots & \\text{Cov}(X_p, X_p)\n",
        "\\end{bmatrix}\n",
        "$$\n"
      ],
      "metadata": {
        "id": "DEZCDXLjCAzU"
      }
    },
    {
      "cell_type": "code",
      "source": [
        "# Compute covariance matrix\n",
        "cov_matrix = np.cov(X, rowvar=False)  # rowvar=False indicates variables are columns\n",
        "\n",
        "print(\"Covariance Matrix:\")\n",
        "print(cov_matrix)"
      ],
      "metadata": {
        "colab": {
          "base_uri": "https://localhost:8080/"
        },
        "id": "9VebsnazBko6",
        "outputId": "9f4e23f4-5da7-4115-ce98-ea127a0ff02d"
      },
      "execution_count": null,
      "outputs": [
        {
          "output_type": "stream",
          "name": "stdout",
          "text": [
            "Covariance Matrix:\n",
            "[[8847.46 1196.43  -20.13   -2.66   -7.03   -1.33]\n",
            " [1196.43 9947.57    1.26    6.88   -1.3    -8.91]\n",
            " [ -20.13    1.26    0.98   -0.04   -0.12   -0.06]\n",
            " [  -2.66    6.88   -0.04    0.83    0.01   -0.04]\n",
            " [  -7.03   -1.3    -0.12    0.01    1.1     0.02]\n",
            " [  -1.33   -8.91   -0.06   -0.04    0.02    0.88]]\n"
          ]
        }
      ]
    },
    {
      "cell_type": "markdown",
      "source": [
        "The high variance variables have disproportionately large covariances."
      ],
      "metadata": {
        "id": "YjHedfnJEwkf"
      }
    },
    {
      "cell_type": "markdown",
      "source": [
        "#### Correlation Matrix:\n",
        "$$\n",
        "R = \\begin{bmatrix}\n",
        "1 & r_{X_1 X_2} & \\cdots & r_{X_1 X_p} \\\\\n",
        "r_{X_2 X_1} & 1 & \\cdots & r_{X_2 X_p} \\\\\n",
        "\\vdots & \\vdots & \\ddots & \\vdots \\\\\n",
        "r_{X_p X_1} & r_{X_p X_2} & \\cdots & 1\n",
        "\\end{bmatrix}\n",
        "$$"
      ],
      "metadata": {
        "id": "evSSp9XeEhdY"
      }
    },
    {
      "cell_type": "code",
      "source": [
        "# Compute correlation matrix\n",
        "cor_matrix = np.corrcoef(X, rowvar=False)\n",
        "\n",
        "print(\"\\nCorrelation Matrix:\")\n",
        "print(cor_matrix)"
      ],
      "metadata": {
        "colab": {
          "base_uri": "https://localhost:8080/"
        },
        "id": "T6vFwfggEroH",
        "outputId": "3aaa9fac-5511-4a6a-bf85-34e66510d6c2"
      },
      "execution_count": null,
      "outputs": [
        {
          "output_type": "stream",
          "name": "stdout",
          "text": [
            "\n",
            "Correlation Matrix:\n",
            "[[ 1.    0.13 -0.22 -0.03 -0.07 -0.02]\n",
            " [ 0.13  1.    0.01  0.08 -0.01 -0.1 ]\n",
            " [-0.22  0.01  1.   -0.04 -0.12 -0.06]\n",
            " [-0.03  0.08 -0.04  1.    0.01 -0.05]\n",
            " [-0.07 -0.01 -0.12  0.01  1.    0.02]\n",
            " [-0.02 -0.1  -0.06 -0.05  0.02  1.  ]]\n"
          ]
        }
      ]
    },
    {
      "cell_type": "markdown",
      "source": [
        "The correlation matrices give better insights about the relationship between the variables, as dividing theis by standard deviations is a form of normalization, resulting in values between [-1, 1], regardless of the scale of the original variables."
      ],
      "metadata": {
        "id": "KW3jt-VKFZvA"
      }
    },
    {
      "cell_type": "markdown",
      "source": [
        "### PCA Using Covariance"
      ],
      "metadata": {
        "id": "am409oCjdKQa"
      }
    },
    {
      "cell_type": "markdown",
      "source": [
        "#### Eigenvalues, Eigenvectors"
      ],
      "metadata": {
        "id": "DZgyoQiML1HL"
      }
    },
    {
      "cell_type": "code",
      "source": [
        "eigenvalues_cov, eigenvectors_cov = np.linalg.eig(cov_matrix)\n",
        "print(\"\\nEigenvalues:\\n\", eigenvalues_cov)\n",
        "print(\"\\nEigenvectors:\\n\", eigenvectors_cov)"
      ],
      "metadata": {
        "colab": {
          "base_uri": "https://localhost:8080/"
        },
        "id": "3y1v6CS7HVEz",
        "outputId": "5771636a-8e95-4019-af2f-67b0799883be"
      },
      "execution_count": null,
      "outputs": [
        {
          "output_type": "stream",
          "name": "stdout",
          "text": [
            "\n",
            "Eigenvalues:\n",
            " [10714.35  8080.75     1.18     0.77     0.9      0.88]\n",
            "\n",
            "Eigenvectors:\n",
            " [[ 0.54  0.84 -0.   -0.    0.    0.  ]\n",
            " [ 0.84 -0.54  0.    0.   -0.    0.  ]\n",
            " [-0.   -0.   -0.5  -0.5   0.46  0.53]\n",
            " [ 0.   -0.    0.06 -0.7   0.11 -0.7 ]\n",
            " [-0.   -0.    0.85 -0.16  0.4   0.3 ]\n",
            " [-0.    0.    0.15 -0.48 -0.78  0.37]]\n"
          ]
        }
      ]
    },
    {
      "cell_type": "markdown",
      "source": [
        "Eigenvalues represent the amount of variance captured by each principal component. Sorting them in descending order allows prioritizing the principal components that explain the most variance in the dataset."
      ],
      "metadata": {
        "id": "p1vEBQ1LHvpW"
      }
    },
    {
      "cell_type": "code",
      "source": [
        "# Sort eigenvalues and eigenvectors in descending order\n",
        "sorted_indices = np.argsort(eigenvalues_cov)[::-1]\n",
        "eigenvalues_cov = eigenvalues_cov[sorted_indices]\n",
        "eigenvectors_cov = eigenvectors_cov[:, sorted_indices]"
      ],
      "metadata": {
        "id": "ZnARaE39Hrht"
      },
      "execution_count": null,
      "outputs": []
    },
    {
      "cell_type": "code",
      "source": [
        "# Project original data onto principal components\n",
        "\n",
        "num_components = 3\n",
        "principal_components_cov = eigenvectors_cov[:, :num_components]\n",
        "print(\"Principal Components (eigenvectors):\\n\", principal_components_cov)\n",
        "\n",
        "# Project X onto principal components\n",
        "X_pca_cov = np.dot(X, principal_components_cov)\n",
        "\n",
        "# Print results\n",
        "print(\"\\nOriginal Shape of X:\", X.shape)\n",
        "print(\"Shape of X after PCA:\", X_pca_cov.shape)\n",
        "print(\"X after PCA, first 5 samples:\")\n",
        "print(X_pca_cov[0:5])"
      ],
      "metadata": {
        "colab": {
          "base_uri": "https://localhost:8080/"
        },
        "id": "g-rlzxxkHuSM",
        "outputId": "17c74ec1-8930-4fc0-86b7-48646eb56918"
      },
      "execution_count": null,
      "outputs": [
        {
          "output_type": "stream",
          "name": "stdout",
          "text": [
            "Principal Components (eigenvectors):\n",
            " [[ 0.54  0.84 -0.  ]\n",
            " [ 0.84 -0.54  0.  ]\n",
            " [-0.   -0.   -0.5 ]\n",
            " [ 0.   -0.    0.06]\n",
            " [-0.   -0.    0.85]\n",
            " [-0.    0.    0.15]]\n",
            "\n",
            "Original Shape of X: (150, 6)\n",
            "Shape of X after PCA: (150, 3)\n",
            "X after PCA, first 5 samples:\n",
            "[[ -24.06  -70.31   -1.74]\n",
            " [ -52.37  -31.36    1.13]\n",
            " [ 203.16   68.57    0.43]\n",
            " [  -0.27 -154.19   -1.03]\n",
            " [ -52.89  130.28    0.64]]\n"
          ]
        }
      ]
    },
    {
      "cell_type": "markdown",
      "source": [
        "Find how much variance in the data is retained by each principal component"
      ],
      "metadata": {
        "id": "c4SiOVoGN89N"
      }
    },
    {
      "cell_type": "code",
      "source": [
        "explained_variance_cov = eigenvalues_cov / np.sum(eigenvalues_cov)\n",
        "print(\"\\nExplained Variance Ratio:\", explained_variance_cov)"
      ],
      "metadata": {
        "colab": {
          "base_uri": "https://localhost:8080/"
        },
        "id": "gdKQBGBrOCdV",
        "outputId": "52a9ba6e-ccad-495b-de04-44a8c18e78b0"
      },
      "execution_count": null,
      "outputs": [
        {
          "output_type": "stream",
          "name": "stdout",
          "text": [
            "\n",
            "Explained Variance Ratio: [0.57 0.43 0.   0.   0.   0.  ]\n"
          ]
        }
      ]
    },
    {
      "cell_type": "markdown",
      "source": [
        "As evident, the Principal components with zero variance (0.00) indicate that they do not contribute any additional variance, reflecting variables with very low variability.\n",
        "\n",
        "Due to their lower scale in comparison with the other features, these variables are considered 'flat' constants, which is not the case in reality.  In PCA, these components are disregarded."
      ],
      "metadata": {
        "id": "Nd-nYui7Oc9M"
      }
    },
    {
      "cell_type": "markdown",
      "source": [
        "### PCA Using Correlation"
      ],
      "metadata": {
        "id": "0Rf7Z2qsdQiB"
      }
    },
    {
      "cell_type": "code",
      "source": [
        "eigenvalues_cor, eigenvectors_cor = np.linalg.eig(cor_matrix)\n",
        "print(\"\\nEigenvalues:\\n\", eigenvalues_cor)\n",
        "print(\"\\nEigenvectors:\\n\", eigenvectors_cor)"
      ],
      "metadata": {
        "colab": {
          "base_uri": "https://localhost:8080/"
        },
        "id": "qH3I3o0VaA-Q",
        "outputId": "3085a09b-f9d6-4693-f4ed-afa0da21df23"
      },
      "execution_count": null,
      "outputs": [
        {
          "output_type": "stream",
          "name": "stdout",
          "text": [
            "\n",
            "Eigenvalues:\n",
            " [0.68 1.25 1.17 1.06 0.89 0.95]\n",
            "\n",
            "Eigenvectors:\n",
            " [[ 0.63 -0.68 -0.02  0.37  0.07 -0.02]\n",
            " [-0.29 -0.38 -0.51 -0.11 -0.68 -0.16]\n",
            " [ 0.6   0.61 -0.42  0.12 -0.28 -0.06]\n",
            " [ 0.21 -0.14 -0.27 -0.62  0.12  0.68]\n",
            " [ 0.34 -0.06  0.4  -0.65 -0.19 -0.51]\n",
            " [ 0.06  0.06  0.57  0.18 -0.63  0.49]]\n"
          ]
        }
      ]
    },
    {
      "cell_type": "code",
      "source": [
        "# Sort eigenvalues and eigenvectors in descending order\n",
        "sorted_indices = np.argsort(eigenvalues_cor)[::-1]\n",
        "eigenvalues_cor = eigenvalues_cor[sorted_indices]\n",
        "eigenvectors_cor = eigenvectors_cor[:, sorted_indices]"
      ],
      "metadata": {
        "id": "Fp5u2cVodf4h"
      },
      "execution_count": null,
      "outputs": []
    },
    {
      "cell_type": "code",
      "source": [
        "# Project original data onto principal components\n",
        "\n",
        "num_components = 3\n",
        "principal_components_cor = eigenvectors_cor[:, :num_components]\n",
        "print(\"Principal Components (eigenvectors):\\n\", principal_components_cor)\n",
        "\n",
        "# Project X onto principal components\n",
        "X_pca_cor = np.dot(X, principal_components_cor)\n",
        "\n",
        "# Print results\n",
        "print(\"\\nOriginal Shape of X:\", X.shape)\n",
        "print(\"Shape of X after PCA:\", X_pca_cor.shape)\n",
        "print(\"X after PCA, first 5 samples:\")\n",
        "print(X_pca_cor[0:5])"
      ],
      "metadata": {
        "colab": {
          "base_uri": "https://localhost:8080/"
        },
        "id": "c-qW0MLIdpj5",
        "outputId": "514279e2-beb5-41c1-e42d-3ce4b1aae8b7"
      },
      "execution_count": null,
      "outputs": [
        {
          "output_type": "stream",
          "name": "stdout",
          "text": [
            "Principal Components (eigenvectors):\n",
            " [[-0.68 -0.02  0.37]\n",
            " [-0.38 -0.51 -0.11]\n",
            " [ 0.61 -0.42  0.12]\n",
            " [-0.14 -0.27 -0.62]\n",
            " [-0.06  0.4  -0.65]\n",
            " [ 0.06  0.57  0.18]]\n",
            "\n",
            "Original Shape of X: (150, 6)\n",
            "Shape of X after PCA: (150, 3)\n",
            "X after PCA, first 5 samples:\n",
            "[[  43.62   -9.39  -28.28]\n",
            " [  46.6    16.8   -16.81]\n",
            " [-165.48  -72.47   47.74]\n",
            " [  58.09  -41.27  -57.5 ]\n",
            " [ -13.28   57.69   42.5 ]]\n"
          ]
        }
      ]
    },
    {
      "cell_type": "code",
      "source": [
        "explained_variance_cor = eigenvalues_cor / np.sum(eigenvalues_cor)\n",
        "print(\"\\nExplained Variance Ratio:\", explained_variance_cor)"
      ],
      "metadata": {
        "colab": {
          "base_uri": "https://localhost:8080/"
        },
        "id": "oM2zVkMjd-1C",
        "outputId": "1f14a582-1560-4ce9-8611-d39c82bd3633"
      },
      "execution_count": null,
      "outputs": [
        {
          "output_type": "stream",
          "name": "stdout",
          "text": [
            "\n",
            "Explained Variance Ratio: [0.21 0.2  0.18 0.16 0.15 0.11]\n"
          ]
        }
      ]
    },
    {
      "cell_type": "markdown",
      "source": [
        "As evident, the principal components formed using correlation coefficients all contribute more equally, which makes more sense, since the original dataset feature values were randomly generated."
      ],
      "metadata": {
        "id": "_oKZ_ZBEhQ0r"
      }
    },
    {
      "cell_type": "markdown",
      "source": [
        "### Comparing Covariance-based & Correlation-based PCA"
      ],
      "metadata": {
        "id": "dm68S-0Kr2J_"
      }
    },
    {
      "cell_type": "code",
      "source": [
        "# Calculate cumulative explained variance\n",
        "cumulative_variance_cov = np.cumsum(explained_variance_cov)\n",
        "cumulative_variance_cor = np.cumsum(explained_variance_cor)\n",
        "\n",
        "print(\"Cumulative Explained Variance (Covariance-based PCA):\")\n",
        "print(cumulative_variance_cov)\n",
        "print(\"\\nCumulative Explained Variance (Correlation-based PCA):\")\n",
        "print(cumulative_variance_cor)\n",
        "\n",
        "plt.figure(figsize=(10, 6))\n",
        "plt.plot(cumulative_variance_cov, label='Covariance-based PCA', marker='o')\n",
        "plt.plot(cumulative_variance_cor, label='Correlation-based PCA', marker='o')\n",
        "plt.xlabel('Number of Components')\n",
        "plt.ylabel('Cumulative Explained Variance')\n",
        "plt.title('Cumulative Explained Variance by PCA Method')\n",
        "plt.legend()\n",
        "plt.grid(True)\n",
        "plt.show()\n",
        "\n"
      ],
      "metadata": {
        "colab": {
          "base_uri": "https://localhost:8080/",
          "height": 656
        },
        "id": "3ivS-slellNu",
        "outputId": "80c67772-efd5-4dbb-898f-e90254ff9744"
      },
      "execution_count": null,
      "outputs": [
        {
          "output_type": "stream",
          "name": "stdout",
          "text": [
            "Cumulative Explained Variance (Covariance-based PCA):\n",
            "[0.57 1.   1.   1.   1.   1.  ]\n",
            "\n",
            "Cumulative Explained Variance (Correlation-based PCA):\n",
            "[0.21 0.4  0.58 0.74 0.89 1.  ]\n"
          ]
        },
        {
          "output_type": "display_data",
          "data": {
            "text/plain": [
              "<Figure size 1000x600 with 1 Axes>"
            ],
            "image/png": "[encoded data removed]"
          },
          "metadata": {}
        }
      ]
    },
    {
      "cell_type": "code",
      "source": [
        "sorted_eigenvalues = eigenvalues_cov\n",
        "sorted_eigenvectors = eigenvectors_cov\n",
        "\n",
        "total_variance = np.sum(sorted_eigenvalues)\n",
        "cumulative_explained_variance = np.cumsum(sorted_eigenvalues) / total_variance\n",
        "\n",
        "# Find the number of components that retain at least 80% of the variance\n",
        "num_components = np.argmax(cumulative_explained_variance >= 0.80) + 1\n",
        "\n",
        "# Print the cumulative explained variance for each component\n",
        "print(\"Cumulative Explained Variance:\", cumulative_explained_variance)\n",
        "print(\"Number of Components to retain 80% variance:\", num_components)\n",
        "\n",
        "# Select the principal components\n",
        "principal_components_cor = sorted_eigenvectors[:, :num_components]\n",
        "print(\"Principal Components (eigenvectors):\\n\", principal_components_cor)\n",
        "\n",
        "# Project X onto principal components\n",
        "X_pca_cor = np.dot(X, principal_components_cor)"
      ],
      "metadata": {
        "colab": {
          "base_uri": "https://localhost:8080/"
        },
        "id": "xCTK0A4KpaQQ",
        "outputId": "64086f56-91e8-4296-84e1-74063dcc6cdd"
      },
      "execution_count": null,
      "outputs": [
        {
          "output_type": "stream",
          "name": "stdout",
          "text": [
            "Cumulative Explained Variance: [0.57 1.   1.   1.   1.   1.  ]\n",
            "Number of Components to retain 80% variance: 2\n",
            "Principal Components (eigenvectors):\n",
            " [[ 0.54  0.84]\n",
            " [ 0.84 -0.54]\n",
            " [-0.   -0.  ]\n",
            " [ 0.   -0.  ]\n",
            " [-0.   -0.  ]\n",
            " [-0.    0.  ]]\n"
          ]
        }
      ]
    },
    {
      "cell_type": "code",
      "source": [
        "sorted_eigenvalues = eigenvalues_cor\n",
        "sorted_eigenvectors = eigenvectors_cor\n",
        "\n",
        "total_variance = np.sum(sorted_eigenvalues)\n",
        "cumulative_explained_variance = np.cumsum(sorted_eigenvalues) / total_variance\n",
        "\n",
        "# Find the number of components that retain at least 80% of the variance\n",
        "num_components = np.argmax(cumulative_explained_variance >= 0.80) + 1\n",
        "\n",
        "# Print the cumulative explained variance for each component\n",
        "print(\"Cumulative Explained Variance:\", cumulative_explained_variance)\n",
        "print(\"Number of Components to retain 80% variance:\", num_components)\n",
        "\n",
        "# Select the principal components\n",
        "principal_components_cor = sorted_eigenvectors[:, :num_components]\n",
        "print(\"Principal Components (eigenvectors):\\n\", principal_components_cor)\n",
        "\n",
        "# Project X onto principal components\n",
        "X_pca_cor = np.dot(X, principal_components_cor)"
      ],
      "metadata": {
        "colab": {
          "base_uri": "https://localhost:8080/"
        },
        "id": "51sKCn6_k4U-",
        "outputId": "754647bc-fbd7-4fef-cc5c-cb8341909b6e"
      },
      "execution_count": null,
      "outputs": [
        {
          "output_type": "stream",
          "name": "stdout",
          "text": [
            "Cumulative Explained Variance: [0.21 0.4  0.58 0.74 0.89 1.  ]\n",
            "Number of Components to retain 80% variance: 5\n",
            "Principal Components (eigenvectors):\n",
            " [[-0.68 -0.02  0.37 -0.02  0.07]\n",
            " [-0.38 -0.51 -0.11 -0.16 -0.68]\n",
            " [ 0.61 -0.42  0.12 -0.06 -0.28]\n",
            " [-0.14 -0.27 -0.62  0.68  0.12]\n",
            " [-0.06  0.4  -0.65 -0.51 -0.19]\n",
            " [ 0.06  0.57  0.18  0.49 -0.63]]\n"
          ]
        }
      ]
    },
    {
      "cell_type": "markdown",
      "source": [
        "###"
      ],
      "metadata": {
        "id": "OobVfftY_fo2"
      }
    },
    {
      "cell_type": "markdown",
      "source": [
        "### Conclusion\n",
        "\n",
        "Higher cumulative explained variance for the same number of components indicates that the method retains more information.\n",
        "\n",
        "**The results** show covariance-based PCA outperforms correlation-based PCA which is contrary to what I expected and tried to prove."
      ],
      "metadata": {
        "id": "JfQwrmzOqWe4"
      }
    },
    {
      "cell_type": "markdown",
      "source": [
        "## Linear Discriminant Analysis\n",
        "Linear discriminant analysis (LDA) is also known as Fisher's linear discriminant or mapping (FLD). Unlike PCA, LDA is a supervised method, i.e. it requires labelled data. The goal of LDA is to reduce the dimensionality to 1-D. The objective of LDA is to find a linear mapping where the projected observations are well separated, maximizing linear class separability [1].\n",
        "\n",
        "We look to achieve the separation of the means for the classes, relative to  scatter as a measure of the standard deviations for the classes. LDA is the\n",
        "linear mapping with the maximum ratio of between-class scatter to\n",
        "within-class scatter [1]."
      ],
      "metadata": {
        "id": "LhbyLhbP_lrG"
      }
    },
    {
      "cell_type": "markdown",
      "source": [
        "### Dataset"
      ],
      "metadata": {
        "id": "Y8e_Msz5UDXS"
      }
    },
    {
      "cell_type": "code",
      "source": [
        "from google.colab import drive\n",
        "drive.mount('/content/drive', force_remount=True)\n",
        "%cd '/content/drive/My Drive/datasets'"
      ],
      "metadata": {
        "colab": {
          "base_uri": "https://localhost:8080/"
        },
        "id": "AX6T0TQzUGU5",
        "outputId": "a9708507-f6e2-47da-aa9c-1bf9f14c7899"
      },
      "execution_count": 1,
      "outputs": [
        {
          "output_type": "stream",
          "name": "stdout",
          "text": [
            "Mounted at /content/drive\n",
            "/content/drive/My Drive/datasets\n"
          ]
        }
      ]
    },
    {
      "cell_type": "code",
      "source": [
        "file = 'IRIS.csv'\n",
        "iris = pd.read_csv(file)"
      ],
      "metadata": {
        "id": "51999zBhVOEi"
      },
      "execution_count": 21,
      "outputs": []
    },
    {
      "cell_type": "code",
      "source": [
        "# Convert string labels to numbers\n",
        "label_mapping = {'Iris-setosa': 0, 'Iris-versicolor': 1, 'Iris-virginica': 2}\n",
        "iris.iloc[:, -1] = iris.iloc[:, -1].map(label_mapping)\n",
        "\n",
        "# Select two classes for LDA, for example, Setosa (0) and Versicolor (1)\n",
        "class_labels = iris.iloc[:, -1]\n",
        "dat1 = iris[class_labels == 0].iloc[:, :-1].values\n",
        "dat2 = iris[class_labels == 1].iloc[:, :-1].values\n",
        "\n",
        "# Sample sizes\n",
        "n1 = dat1.shape[0]\n",
        "n2 = dat2.shape[0]\n",
        "\n",
        "# Plot the data (first two features)\n",
        "plt.scatter(dat1[:, 0], dat1[:, 1], marker='x', label='Class 1 (Setosa)')\n",
        "plt.scatter(dat2[:, 0], dat2[:, 1], marker='o', label='Class 2 (Versicolor)')\n",
        "plt.legend()\n",
        "plt.show()\n",
        "\n",
        "# Calculate the scatter matrices\n",
        "scat1 = (n1 - 1) * np.cov(dat1, rowvar=False)\n",
        "scat2 = (n2 - 1) * np.cov(dat2, rowvar=False)\n",
        "\n",
        "# Compute the within-class scatter matrix\n",
        "Sw = scat1 + scat2\n",
        "\n",
        "# Calculate the means for each class\n",
        "mu1 = np.mean(dat1, axis=0)\n",
        "mu2 = np.mean(dat2, axis=0)\n",
        "\n",
        "# Calculate the LDA vector w\n",
        "w = np.linalg.inv(Sw).dot(mu1 - mu2)\n",
        "\n",
        "# Normalize the vector w\n",
        "w = w / np.linalg.norm(w)\n",
        "\n",
        "print(f\"LDA vector w: {w}\")\n",
        "\n",
        "## To be continued"
      ],
      "metadata": {
        "colab": {
          "base_uri": "https://localhost:8080/",
          "height": 451
        },
        "id": "07UI-HEpNBkY",
        "outputId": "a36127f1-8394-4dec-88c4-2350f3f0d01b"
      },
      "execution_count": 22,
      "outputs": [
        {
          "output_type": "display_data",
          "data": {
            "text/plain": [
              "<Figure size 640x480 with 1 Axes>"
            ],
            "image/png": "[encoded data removed]"
          },
          "metadata": {}
        },
        {
          "output_type": "stream",
          "name": "stdout",
          "text": [
            "LDA vector w: [ 0.06600043  0.42695115 -0.49229259 -0.75564851]\n"
          ]
        }
      ]
    },
    {
      "cell_type": "markdown",
      "source": [
        "Algorithm not finished yet."
      ],
      "metadata": {
        "id": "k7DjCPpCgCQD"
      }
    },
    {
      "cell_type": "markdown",
      "source": [
        "## References\n",
        "[1]. Martinez, W.L., Martinez, A.R., & Solka, J. (2017). Exploratory Data Analysis with MATLAB (3rd ed.). Chapman and Hall/CRC. https://doi.org/10.1201/9781315366968"
      ],
      "metadata": {
        "id": "QMNxCJ5V-51v"
      }
    }
  ]
}